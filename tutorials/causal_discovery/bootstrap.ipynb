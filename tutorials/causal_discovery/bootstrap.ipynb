{
 "cells": [
  {
   "cell_type": "code",
   "execution_count": 1,
   "metadata": {},
   "outputs": [],
   "source": [
    "import numpy as np\n",
    "from statsmodels.tsa.stattools import adfuller,kpss\n",
    "import pandas as pd\n",
    "from matplotlib import pyplot as plt\n",
    "%matplotlib inline     \n",
    "import torch\n",
    "import tigramite\n",
    "import tqdm\n",
    "from tigramite import data_processing as pp\n",
    "from tigramite.toymodels import structural_causal_processes as toys\n",
    "from tigramite import plotting as tp\n",
    "from tigramite.lpcmci import LPCMCI\n",
    "from tigramite.pcmci import PCMCI\n",
    "from tigramite.independence_tests.parcorr import ParCorr\n",
    "from statsmodels.tools.sm_exceptions import InterpolationWarning\n",
    "from tigramite.independence_tests.cmiknn import CMIknn\n",
    "from tigramite.lpcmci import LPCMCI\n",
    "from tigramite.independence_tests.gpdc import GPDC\n",
    "import seaborn as sns"
   ]
  },
  {
   "cell_type": "code",
   "execution_count": 1,
   "metadata": {},
   "outputs": [
    {
     "name": "stdout",
     "output_type": "stream",
     "text": [
      "{0: {(0, -1): '', (1, 0): '', (1, -1): '', (2, 0): '', (2, -1): '', (3, 0): '', (3, -1): '', (4, 0): '', (4, -1): '', (5, 0): '', (5, -1): '', (6, 0): '', (6, -1): '', (7, 0): '', (7, -1): ''}, 1: {(0, 0): '', (0, -1): '', (1, -1): '', (2, 0): '', (2, -1): '', (3, 0): '', (3, -1): '', (4, 0): '', (4, -1): '', (5, 0): '', (5, -1): '', (6, 0): '', (6, -1): '', (7, 0): '', (7, -1): ''}, 2: {(0, 0): '', (0, -1): '', (1, 0): '', (1, -1): '', (2, -1): '', (3, 0): '', (3, -1): '', (4, 0): '', (4, -1): '', (5, 0): '', (5, -1): '', (6, 0): '', (6, -1): '', (7, 0): '', (7, -1): ''}, 3: {(0, 0): '', (0, -1): '', (1, 0): '', (1, -1): '', (2, 0): '', (2, -1): '', (3, -1): '', (4, 0): '', (4, -1): '', (5, 0): '', (5, -1): '', (6, 0): '', (6, -1): '', (7, 0): '', (7, -1): ''}, 4: {(0, 0): '', (0, -1): '', (1, 0): '', (1, -1): '', (2, 0): '', (2, -1): '', (3, 0): '', (3, -1): '', (4, -1): '', (5, 0): '', (5, -1): '', (6, 0): '', (6, -1): '', (7, 0): '', (7, -1): ''}, 5: {(0, 0): '', (0, -1): '', (1, 0): '', (1, -1): '', (2, 0): '', (2, -1): '', (3, 0): '', (3, -1): '', (4, 0): '', (4, -1): '', (5, -1): '', (6, 0): '', (6, -1): '', (7, 0): '', (7, -1): ''}, 6: {(0, 0): '', (0, -1): '', (1, 0): '', (1, -1): '', (2, 0): '', (2, -1): '', (3, 0): '', (3, -1): '', (4, 0): '', (4, -1): '', (5, 0): '', (5, -1): '', (6, -1): '', (7, 0): '', (7, -1): ''}, 7: {(0, 0): '', (0, -1): '', (1, 0): '', (1, -1): '', (2, 0): '', (2, -1): '', (3, 0): '', (3, -1): '', (4, 0): '', (4, -1): '', (5, 0): '', (5, -1): '', (6, 0): '', (6, -1): '', (7, -1): ''}}\n"
     ]
    }
   ],
   "source": [
    "link_assumptions = {j:{(i, -tau):'' for i in range(8) for tau in range(2) if (i, -tau) != (j, 0)} \n",
    "                            for j in range(8)}\n",
    "link_assumptions[0][(1, 0)] = '<?-' #Nd is an ancestor of P\n",
    "link_assumptions[1][(0, 0)] = '-?>'\n",
    "link_assumptions[7][(1, 0)] = '<?-'# CF is an ancestor of precipitation\n",
    "link_assumptions[1][(7, 0)] = '-?>'\n",
    "link_assumptions[0][(0, -1)] = '-?>' #Nd at lag t-1 is an ancestor of Nd\n",
    "link_assumptions[0][(1, -1)] = '-?>' #P at lag t-1 is an ancestor of Nd\n",
    "link_assumptions[7][(1, -1)] = '-?>' #P at lag t-1 is an ancestor of CF\n",
    "link_assumptions[7][(0, -1)] = 'o?>' #Nd at lag t-1 is an ancestor of CF\n",
    "link_assumptions[1][(0, -1)] = 'o?>' #Nd at lag t-1 is an ancestor of P\n",
    "link_assumptions[1][(7, -1)] = 'o?>' #CF at lag -1 is an ancestor of P\n",
    "link_assumptions[7][(7, -1)] = 'o?>' #CF at lag t-1 is an ancestor of CF\n",
    "for j in range(2,7): \n",
    "    link_assumptions[j][(0, 0)] = '<?-' #meterological variables are ancestor of aerosol\n",
    "    link_assumptions[0][(j, 0)] = '-?>'\n",
    "    link_assumptions[j][(7, 0)] = '<?-' #meteorological variables are ancestor of cloud fraction\n",
    "    link_assumptions[7][(j, 0)] = '-?>'"
   ]
  },
  {
   "cell_type": "code",
   "execution_count": 3,
   "metadata": {},
   "outputs": [
    {
     "ename": "",
     "evalue": "",
     "output_type": "error",
     "traceback": [
      "\u001b[1;31mThe Kernel crashed while executing code in the current cell or a previous cell. \n",
      "\u001b[1;31mPlease review the code in the cell(s) to identify a possible cause of the failure. \n",
      "\u001b[1;31mClick <a href='https://aka.ms/vscodeJupyterKernelCrash'>here</a> for more info. \n",
      "\u001b[1;31mView Jupyter <a href='command:jupyter.viewOutput'>log</a> for further details."
     ]
    }
   ],
   "source": [
    "dat = pd.read_csv('/home/gnicolaou/tigramite/tutorials/causal_discovery/data.csv')\n",
    "dat = dat.values\n",
    "n_a_n = np.isnan(dat).any(axis=1)\n",
    "dat[n_a_n] = 999\n",
    "\n",
    "# initialize dataframe object, specify variable names\n",
    "var_names = ['Nd','Pr','sst','lts','fth','ws','div','cf']\n",
    "dataframe = pp.DataFrame(dat, var_names=var_names, missing_flag = 999)\n",
    "\n",
    "#gpdc = GPDC(significance='analytic', gp_params=None)\n",
    "#cmi_knn = CMIknn(significance='shuffle_test', knn=0.1, shuffle_neighbors=5, transform='ranks', sig_samples=200)\n",
    "cmi_knn = CMIknn(significance='fixed_thres', model_selection_folds=3)\n",
    "\n",
    "pcmci_cmi = LPCMCI(\n",
    "    dataframe=dataframe, \n",
    "    cond_ind_test=cmi_knn,\n",
    "    verbosity=0)\n",
    "results = pcmci_cmi.run_lpcmci(tau_max=2, pc_alpha = .05, link_assumptions = link_assumptions)\n",
    "print(results)\n",
    "\n",
    "tp.plot_time_series_graph(graph=results['graph'],\n",
    "                          val_matrix=results['val_matrix'], save_name = \"sim_data_cmiknn.1.linkass.png\")\n",
    "\n"
   ]
  },
  {
   "cell_type": "code",
   "execution_count": null,
   "metadata": {},
   "outputs": [],
   "source": [
    "import numpy as np\n",
    "# Create an array of zeros with the desired shape and data type\n",
    "final_arr_values = np.zeros((8, 8, 3), dtype=object)\n",
    "\n",
    "# Iterate over each element and replace it with a vector of 1000 zeros\n",
    "for i in range(final_arr_values.shape[0]):\n",
    "    for j in range(final_arr_values.shape[1]):\n",
    "        for k in range(final_arr_values.shape[2]):\n",
    "            final_arr_values[i, j, k] = np.zeros(1000, dtype=int)"
   ]
  },
  {
   "cell_type": "code",
   "execution_count": null,
   "metadata": {},
   "outputs": [],
   "source": [
    "#print(results['graph'])\n",
    "final_arr = np.zeros((8, 8, 3), dtype=int)\n",
    "final_arr[results['graph'] != ''] = 1"
   ]
  },
  {
   "cell_type": "code",
   "execution_count": 3,
   "metadata": {},
   "outputs": [
    {
     "name": "stdout",
     "output_type": "stream",
     "text": [
      "                0         1          2          3         4         5  \\\n",
      "17980   89.386970  0.227354  293.28082  24.280912  0.000233  7.496290   \n",
      "17981  131.712360  0.009226  294.82202  19.202335  0.000373  7.994742   \n",
      "17982   48.906640  0.032487  294.08554  14.370646  0.003779  3.151628   \n",
      "17983   62.857050  0.020456  295.94275  17.066334  0.003617  2.607422   \n",
      "17984   47.383667  0.012148  294.67212  22.873160  0.000329  7.412026   \n",
      "\n",
      "              6         7  \n",
      "17980  0.000017  0.929443  \n",
      "17981  0.000012  0.429688  \n",
      "17982 -0.000006  0.376709  \n",
      "17983  0.000001  0.158447  \n",
      "17984  0.000008  0.334961  \n"
     ]
    }
   ],
   "source": [
    "data = pd.read_csv('/home/gnicolaou/tigramite/tutorials/causal_discovery/data.csv')\n",
    "def sample_trajectories(df, n_trajectories):\n",
    "    max_index = df.index.max()\n",
    "    trajectory_length = df[df.isna().all(axis=1)].index[0] + 1 # Length of each trajectory\n",
    "    sampled_indices = np.random.choice(range(0, max_index, trajectory_length), size=n_trajectories, replace=True)\n",
    "    sampled_trajectories = []\n",
    "    for idx in sampled_indices:\n",
    "        sampled_trajectories.append(df.iloc[idx:idx+trajectory_length])\n",
    "    return pd.concat(sampled_trajectories)\n",
    "\n",
    "# Example usage:\n",
    "# Assuming df is your DataFrame with trajectories as described\n",
    "sampled_df = sample_trajectories(data, n_trajectories=2)  # Sampling 100 trajectories\n",
    "print(sampled_df.head())"
   ]
  },
  {
   "cell_type": "code",
   "execution_count": 4,
   "metadata": {},
   "outputs": [
    {
     "name": "stdout",
     "output_type": "stream",
     "text": [
      "[[[0.    0.    0.   ]\n",
      "  [0.154 0.    0.   ]\n",
      "  [0.    0.    0.   ]\n",
      "  [0.    0.    0.   ]\n",
      "  [0.928 0.    0.   ]\n",
      "  [0.    0.    0.   ]\n",
      "  [0.    0.    0.   ]\n",
      "  [0.    0.    0.   ]]\n",
      "\n",
      " [[0.154 0.    0.   ]\n",
      "  [0.    0.081 0.003]\n",
      "  [0.    0.    0.   ]\n",
      "  [0.    0.    0.   ]\n",
      "  [0.    0.    0.   ]\n",
      "  [0.    0.    0.   ]\n",
      "  [0.    0.    0.   ]\n",
      "  [1.    0.    0.   ]]\n",
      "\n",
      " [[0.    0.    0.   ]\n",
      "  [0.    0.    0.   ]\n",
      "  [0.    0.    0.   ]\n",
      "  [0.022 0.    0.   ]\n",
      "  [0.973 0.    0.   ]\n",
      "  [0.514 0.    0.   ]\n",
      "  [0.    0.    0.   ]\n",
      "  [0.074 0.    0.   ]]\n",
      "\n",
      " [[0.    0.    0.   ]\n",
      "  [0.    0.    0.   ]\n",
      "  [0.022 0.    0.   ]\n",
      "  [0.    0.    0.   ]\n",
      "  [0.    0.    0.   ]\n",
      "  [1.    0.    0.   ]\n",
      "  [0.    0.    0.   ]\n",
      "  [0.205 0.    0.   ]]\n",
      "\n",
      " [[0.928 0.    0.   ]\n",
      "  [0.    0.    0.   ]\n",
      "  [0.973 0.    0.   ]\n",
      "  [0.    0.    0.   ]\n",
      "  [0.    0.    0.   ]\n",
      "  [0.913 0.    0.   ]\n",
      "  [0.    0.    0.   ]\n",
      "  [0.    0.    0.   ]]\n",
      "\n",
      " [[0.    0.    0.   ]\n",
      "  [0.    0.    0.   ]\n",
      "  [0.514 0.    0.   ]\n",
      "  [1.    0.    0.   ]\n",
      "  [0.913 0.    0.   ]\n",
      "  [0.    0.    0.   ]\n",
      "  [0.    0.    0.   ]\n",
      "  [0.    0.    0.   ]]\n",
      "\n",
      " [[0.    0.    0.   ]\n",
      "  [0.    0.    0.   ]\n",
      "  [0.    0.    0.   ]\n",
      "  [0.    0.    0.   ]\n",
      "  [0.    0.    0.   ]\n",
      "  [0.    0.    0.   ]\n",
      "  [0.    0.    0.   ]\n",
      "  [0.    0.    0.   ]]\n",
      "\n",
      " [[0.    0.    0.   ]\n",
      "  [1.    0.    0.   ]\n",
      "  [0.074 0.    0.   ]\n",
      "  [0.205 0.    0.   ]\n",
      "  [0.    0.    0.   ]\n",
      "  [0.    0.    0.   ]\n",
      "  [0.    0.    0.   ]\n",
      "  [0.    0.    0.   ]]]\n"
     ]
    }
   ],
   "source": [
    "integer = 1000\n",
    "\n",
    "cmi_knn = CMIknn(significance='fixed_thres', model_selection_folds=3)\n",
    "#gpdc = GPDC(significance='analytic', gp_params=None)\n",
    "final_arr = np.zeros((8, 8, 3), dtype=int)\n",
    "for i in range(0, integer):\n",
    "    sampled_df = sample_trajectories(data, n_trajectories=50)\n",
    "    dat = sampled_df.values\n",
    "    n_a_n = np.isnan(dat).any(axis=1)\n",
    "    dat[n_a_n] = 999\n",
    "    # initialize dataframe object, specify variable names\n",
    "    var_names = ['Nd','Pr','sst','lts','fth','ws','div','cf']\n",
    "    dataframe = pp.DataFrame(dat, var_names=var_names, missing_flag = 999)\n",
    "    pcmci_cmi = LPCMCI(\n",
    "    dataframe=dataframe, \n",
    "    cond_ind_test=cmi_knn,\n",
    "    verbosity=0)\n",
    "    results = pcmci_cmi.run_lpcmci(tau_max=2, pc_alpha = .05)\n",
    "    new_arr = np.zeros_like(results['graph'], dtype=int)\n",
    "    new_arr[results['graph'] != ''] = 1\n",
    "    final_arr = final_arr + new_arr\n",
    "    for p in range(final_arr_values.shape[0]):\n",
    "        for j in range(final_arr_values.shape[1]):\n",
    "            for k in range(final_arr_values.shape[2]):\n",
    "                final_arr_values[p, j, k][i] = results['val_matrix'][p, j, k]\n",
    "\n",
    "print(final_arr / integer)\n"
   ]
  },
  {
   "cell_type": "code",
   "execution_count": 9,
   "metadata": {},
   "outputs": [],
   "source": [
    "new_array = np.where(final_arr/integer != 0, '->', '')"
   ]
  },
  {
   "cell_type": "code",
   "execution_count": 10,
   "metadata": {},
   "outputs": [
    {
     "data": {
      "image/png": "[encoded data removed]",
      "text/plain": [
       "<Figure size 640x480 with 1 Axes>"
      ]
     },
     "metadata": {},
     "output_type": "display_data"
    }
   ],
   "source": [
    "tp.plot_time_series_graph(graph=new_array,\n",
    "                          val_matrix=final_arr / integer)\n",
    "plt.show()"
   ]
  },
  {
   "cell_type": "code",
   "execution_count": null,
   "metadata": {},
   "outputs": [],
   "source": [
    "import numpy as np\n",
    "\n",
    "# Assuming new_array is your (8, 8, 3) array where each element contains a 1000-long array of values\n",
    "\n",
    "# Define the confidence interval range (e.g., 95%)\n",
    "confidence_interval = 95\n",
    "\n",
    "# Create a new array to store the confidence intervals\n",
    "confidence_intervals = np.zeros((8, 8, 3), dtype=object)\n",
    "\n",
    "# Iterate over each element and replace it with a vector of 1000 zeros\n",
    "for i in range(confidence_intervals .shape[0]):\n",
    "    for j in range(confidence_intervals .shape[1]):\n",
    "        for k in range(confidence_intervals.shape[2]):\n",
    "            confidence_intervals [i, j, k] = np.zeros(2, dtype=int)\n",
    "#confidence_intervals = np.zeros_like(final_arr_values, dtype=np.float64)\n",
    "\n",
    "# Iterate over each element of new_array\n",
    "for i in range(final_arr_values.shape[0]):\n",
    "    for j in range(final_arr_values.shape[1]):\n",
    "        for k in range(final_arr_values.shape[2]):\n",
    "            # Calculate the confidence interval for the current element\n",
    "            lower_bound = np.percentile(final_arr_values[i, j, k], (100 - confidence_interval) / 2)\n",
    "            upper_bound = np.percentile(final_arr_values[i, j, k], confidence_interval + (100 - confidence_interval) / 2)\n",
    "            \n",
    "            # Store the confidence interval in confidence_intervals array\n",
    "            confidence_intervals[i, j, k] = [lower_bound, upper_bound]\n",
    "\n",
    "# confidence_intervals now contains the confidence intervals for each element in new_array\n",
    "\n",
    "print(confidence_intervals)"
   ]
  }
 ],
 "metadata": {
  "kernelspec": {
   "display_name": ".venv",
   "language": "python",
   "name": "python3"
  },
  "language_info": {
   "codemirror_mode": {
    "name": "ipython",
    "version": 3
   },
   "file_extension": ".py",
   "mimetype": "text/x-python",
   "name": "python",
   "nbconvert_exporter": "python",
   "pygments_lexer": "ipython3",
   "version": "3.10.6"
  }
 },
 "nbformat": 4,
 "nbformat_minor": 2
}
